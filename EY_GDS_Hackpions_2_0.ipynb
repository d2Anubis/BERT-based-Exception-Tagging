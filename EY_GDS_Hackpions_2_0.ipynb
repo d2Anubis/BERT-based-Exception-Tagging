{
  "nbformat": 4,
  "nbformat_minor": 0,
  "metadata": {
    "colab": {
      "name": "EY GDS Hackpions 2.0.ipynb",
      "provenance": [],
      "toc_visible": true
    },
    "kernelspec": {
      "display_name": "Python 3",
      "name": "python3"
    },
    "language_info": {
      "name": "python"
    }
  },
  "cells": [
    {
      "cell_type": "markdown",
      "metadata": {
        "id": "Pc-rKDkHT3b6"
      },
      "source": [
        "All the modules used in creating this notebook is open-source and free.\n",
        "\n"
      ]
    },
    {
      "cell_type": "markdown",
      "metadata": {
        "id": "uLPAa-N4Oa2H"
      },
      "source": [
        "# Data Cleaning\n",
        "\n",
        "Regex helps in cleaning text based data on the basis of pattern. </br>\n",
        "Using regular rexpressions we have cleaned our data in following ways:\n",
        "1. Conversions of entire text in lower cases\n",
        "2. Removing texts between brackets \n",
        "3. Removing digits and unwanted symbols\n",
        "4. Removing extra white spaces"
      ]
    },
    {
      "cell_type": "code",
      "metadata": {
        "id": "qPBCpnL5Fxfr"
      },
      "source": [
        "import re   #importing regex for data cleaning\n",
        "\n",
        "def cleaning_data(text): #function that cleans the data\n",
        "  text=text.lower()   #converting text to lower case\n",
        "  text=re.sub(\"([\\(\\[]).*?([\\)\\]])\", \"\\g<1>\\g<2>\", text)  #removing text between brackets\n",
        "  text=re.sub(r'[^a-zA-Z ]+', '', text)   #removing all characters except letters\n",
        "  text=re.sub(\"\\s+\",\" \",text)   #removing extra white spaces\n",
        "  return text"
      ],
      "execution_count": 59,
      "outputs": []
    },
    {
      "cell_type": "code",
      "metadata": {
        "id": "siV0UgsvN8NR"
      },
      "source": [
        "#passing text to get cleaned\n",
        "text = \"Internal:Failed to evaluate expression '[Filtered output.P2] - The collection has no current row\"\n",
        "text = cleaning_data(text)"
      ],
      "execution_count": 60,
      "outputs": []
    },
    {
      "cell_type": "markdown",
      "metadata": {
        "id": "DqkqNrQ-SwcJ"
      },
      "source": [
        "# Extracting Keyword\n",
        "\n",
        "We have implemented YAKE! for extraction of keywords from texts.</br>\n",
        "Reasons to use Yake! over many other keyword extracting techniques are:\n",
        "1. It is light-weight, unsupervised approach\n",
        "2. It has outperformed many of the exisiting state-of-the-art methods\n",
        "3. It is corpus and domain independent"
      ]
    },
    {
      "cell_type": "code",
      "metadata": {
        "colab": {
          "base_uri": "https://localhost:8080/"
        },
        "id": "aeA3gfpeOG8S",
        "outputId": "3128ca19-9083-41f2-e22a-6ca3aa2ab2bc"
      },
      "source": [
        "#installing and importing yake\n",
        "!pip install yake\n",
        "\n",
        "import yake"
      ],
      "execution_count": 61,
      "outputs": [
        {
          "output_type": "stream",
          "text": [
            "Requirement already satisfied: yake in /usr/local/lib/python3.7/dist-packages (0.4.7)\n",
            "Requirement already satisfied: jellyfish in /usr/local/lib/python3.7/dist-packages (from yake) (0.8.2)\n",
            "Requirement already satisfied: networkx in /usr/local/lib/python3.7/dist-packages (from yake) (2.5.1)\n",
            "Requirement already satisfied: click>=6.0 in /usr/local/lib/python3.7/dist-packages (from yake) (7.1.2)\n",
            "Requirement already satisfied: tabulate in /usr/local/lib/python3.7/dist-packages (from yake) (0.8.9)\n",
            "Requirement already satisfied: segtok in /usr/local/lib/python3.7/dist-packages (from yake) (1.5.10)\n",
            "Requirement already satisfied: numpy in /usr/local/lib/python3.7/dist-packages (from yake) (1.19.5)\n",
            "Requirement already satisfied: decorator<5,>=4.3 in /usr/local/lib/python3.7/dist-packages (from networkx->yake) (4.4.2)\n",
            "Requirement already satisfied: regex in /usr/local/lib/python3.7/dist-packages (from segtok->yake) (2019.12.20)\n"
          ],
          "name": "stdout"
        }
      ]
    },
    {
      "cell_type": "code",
      "metadata": {
        "id": "x-YPxWlGeLIv"
      },
      "source": [
        "language = \"en\"\n",
        "max_ngram_size = 4\n",
        "deduplication_thresold = 0.9\n",
        "deduplication_algo = 'seqm'\n",
        "windowSize = 1\n",
        "numOfKeywords = 2\n",
        "kw_extractor = yake.KeywordExtractor(lan=language, n=max_ngram_size, dedupLim=deduplication_thresold, dedupFunc=deduplication_algo, windowsSize=windowSize, top=numOfKeywords, features=None)\n",
        "keywords = kw_extractor.extract_keywords(text)\n",
        "sentences=[]\n",
        "for kw in keywords:\n",
        "  sentences.append(kw[0])"
      ],
      "execution_count": 62,
      "outputs": []
    },
    {
      "cell_type": "markdown",
      "metadata": {
        "id": "9JDKblF4e16J"
      },
      "source": [
        "# Classifying Keywords"
      ]
    },
    {
      "cell_type": "code",
      "metadata": {
        "id": "yMV46_Ju3hhR"
      },
      "source": [
        "#Getting labeled Keywords\n",
        "import pandas as pd\n",
        "dfs = pd.read_excel('/content/Datasets EY GDS.xlsx', sheet_name='Output')"
      ],
      "execution_count": 63,
      "outputs": []
    },
    {
      "cell_type": "code",
      "metadata": {
        "id": "UXU6hz3d33Ms"
      },
      "source": [
        "tag = pd.read_excel('/content/Datasets EY GDS.xlsx', sheet_name='Keywords for tagging')"
      ],
      "execution_count": 64,
      "outputs": []
    },
    {
      "cell_type": "code",
      "metadata": {
        "colab": {
          "base_uri": "https://localhost:8080/",
          "height": 204
        },
        "id": "PoDop47d4C_7",
        "outputId": "4dbe1f6d-fb60-4847-ea38-df2f5051ce6c"
      },
      "source": [
        "tag.head()"
      ],
      "execution_count": 65,
      "outputs": [
        {
          "output_type": "execute_result",
          "data": {
            "text/html": [
              "<div>\n",
              "<style scoped>\n",
              "    .dataframe tbody tr th:only-of-type {\n",
              "        vertical-align: middle;\n",
              "    }\n",
              "\n",
              "    .dataframe tbody tr th {\n",
              "        vertical-align: top;\n",
              "    }\n",
              "\n",
              "    .dataframe thead th {\n",
              "        text-align: right;\n",
              "    }\n",
              "</style>\n",
              "<table border=\"1\" class=\"dataframe\">\n",
              "  <thead>\n",
              "    <tr style=\"text-align: right;\">\n",
              "      <th></th>\n",
              "      <th>Keywords for System Exception</th>\n",
              "      <th>Keywords for Business Exception</th>\n",
              "    </tr>\n",
              "  </thead>\n",
              "  <tbody>\n",
              "    <tr>\n",
              "      <th>0</th>\n",
              "      <td>Unable to launch service</td>\n",
              "      <td>Missing the mandatory fields</td>\n",
              "    </tr>\n",
              "    <tr>\n",
              "      <th>1</th>\n",
              "      <td>Failed to fetch data</td>\n",
              "      <td>Mail Id not found</td>\n",
              "    </tr>\n",
              "    <tr>\n",
              "      <th>2</th>\n",
              "      <td>Failed fetching Site issue</td>\n",
              "      <td>Invite is not found</td>\n",
              "    </tr>\n",
              "    <tr>\n",
              "      <th>3</th>\n",
              "      <td>Code stage not executed</td>\n",
              "      <td>Template is not found</td>\n",
              "    </tr>\n",
              "    <tr>\n",
              "      <th>4</th>\n",
              "      <td>Exception occured in processing</td>\n",
              "      <td>Error in Input File</td>\n",
              "    </tr>\n",
              "  </tbody>\n",
              "</table>\n",
              "</div>"
            ],
            "text/plain": [
              "     Keywords for System Exception Keywords for Business Exception\n",
              "0         Unable to launch service    Missing the mandatory fields\n",
              "1             Failed to fetch data               Mail Id not found\n",
              "2       Failed fetching Site issue             Invite is not found\n",
              "3          Code stage not executed           Template is not found\n",
              "4  Exception occured in processing             Error in Input File"
            ]
          },
          "metadata": {
            "tags": []
          },
          "execution_count": 65
        }
      ]
    },
    {
      "cell_type": "code",
      "metadata": {
        "id": "Hg2CRYPs4Mb8"
      },
      "source": [
        "Sys_Exception=[]\n",
        "for i in range(11):\n",
        "  Sys_Exception.append(tag['Keywords for System Exception'][i])"
      ],
      "execution_count": 66,
      "outputs": []
    },
    {
      "cell_type": "code",
      "metadata": {
        "id": "EmZbNmrO4fwn"
      },
      "source": [
        "Bus_Exception=[]\n",
        "for i in range(8):\n",
        "  Bus_Exception.append(tag['Keywords for Business Exception'][i])"
      ],
      "execution_count": 67,
      "outputs": []
    },
    {
      "cell_type": "code",
      "metadata": {
        "colab": {
          "base_uri": "https://localhost:8080/"
        },
        "id": "jbhj42l1eWL4",
        "outputId": "b257df2c-e614-44f6-fa25-34e473d826e5"
      },
      "source": [
        "!pip install sent2vec"
      ],
      "execution_count": 68,
      "outputs": [
        {
          "output_type": "stream",
          "text": [
            "Requirement already satisfied: sent2vec in /usr/local/lib/python3.7/dist-packages (0.2.0)\n",
            "Requirement already satisfied: transformers in /usr/local/lib/python3.7/dist-packages (from sent2vec) (4.5.1)\n",
            "Requirement already satisfied: spacy in /usr/local/lib/python3.7/dist-packages (from sent2vec) (2.2.4)\n",
            "Requirement already satisfied: numpy in /usr/local/lib/python3.7/dist-packages (from sent2vec) (1.19.5)\n",
            "Requirement already satisfied: gensim in /usr/local/lib/python3.7/dist-packages (from sent2vec) (3.6.0)\n",
            "Requirement already satisfied: torch in /usr/local/lib/python3.7/dist-packages (from sent2vec) (1.8.1+cu101)\n",
            "Requirement already satisfied: tqdm>=4.27 in /usr/local/lib/python3.7/dist-packages (from transformers->sent2vec) (4.41.1)\n",
            "Requirement already satisfied: tokenizers<0.11,>=0.10.1 in /usr/local/lib/python3.7/dist-packages (from transformers->sent2vec) (0.10.2)\n",
            "Requirement already satisfied: regex!=2019.12.17 in /usr/local/lib/python3.7/dist-packages (from transformers->sent2vec) (2019.12.20)\n",
            "Requirement already satisfied: sacremoses in /usr/local/lib/python3.7/dist-packages (from transformers->sent2vec) (0.0.45)\n",
            "Requirement already satisfied: packaging in /usr/local/lib/python3.7/dist-packages (from transformers->sent2vec) (20.9)\n",
            "Requirement already satisfied: requests in /usr/local/lib/python3.7/dist-packages (from transformers->sent2vec) (2.23.0)\n",
            "Requirement already satisfied: filelock in /usr/local/lib/python3.7/dist-packages (from transformers->sent2vec) (3.0.12)\n",
            "Requirement already satisfied: importlib-metadata; python_version < \"3.8\" in /usr/local/lib/python3.7/dist-packages (from transformers->sent2vec) (3.10.1)\n",
            "Requirement already satisfied: preshed<3.1.0,>=3.0.2 in /usr/local/lib/python3.7/dist-packages (from spacy->sent2vec) (3.0.5)\n",
            "Requirement already satisfied: blis<0.5.0,>=0.4.0 in /usr/local/lib/python3.7/dist-packages (from spacy->sent2vec) (0.4.1)\n",
            "Requirement already satisfied: murmurhash<1.1.0,>=0.28.0 in /usr/local/lib/python3.7/dist-packages (from spacy->sent2vec) (1.0.5)\n",
            "Requirement already satisfied: cymem<2.1.0,>=2.0.2 in /usr/local/lib/python3.7/dist-packages (from spacy->sent2vec) (2.0.5)\n",
            "Requirement already satisfied: srsly<1.1.0,>=1.0.2 in /usr/local/lib/python3.7/dist-packages (from spacy->sent2vec) (1.0.5)\n",
            "Requirement already satisfied: plac<1.2.0,>=0.9.6 in /usr/local/lib/python3.7/dist-packages (from spacy->sent2vec) (1.1.3)\n",
            "Requirement already satisfied: wasabi<1.1.0,>=0.4.0 in /usr/local/lib/python3.7/dist-packages (from spacy->sent2vec) (0.8.2)\n",
            "Requirement already satisfied: catalogue<1.1.0,>=0.0.7 in /usr/local/lib/python3.7/dist-packages (from spacy->sent2vec) (1.0.0)\n",
            "Requirement already satisfied: setuptools in /usr/local/lib/python3.7/dist-packages (from spacy->sent2vec) (56.0.0)\n",
            "Requirement already satisfied: thinc==7.4.0 in /usr/local/lib/python3.7/dist-packages (from spacy->sent2vec) (7.4.0)\n",
            "Requirement already satisfied: six>=1.5.0 in /usr/local/lib/python3.7/dist-packages (from gensim->sent2vec) (1.15.0)\n",
            "Requirement already satisfied: scipy>=0.18.1 in /usr/local/lib/python3.7/dist-packages (from gensim->sent2vec) (1.4.1)\n",
            "Requirement already satisfied: smart-open>=1.2.1 in /usr/local/lib/python3.7/dist-packages (from gensim->sent2vec) (5.0.0)\n",
            "Requirement already satisfied: typing-extensions in /usr/local/lib/python3.7/dist-packages (from torch->sent2vec) (3.7.4.3)\n",
            "Requirement already satisfied: click in /usr/local/lib/python3.7/dist-packages (from sacremoses->transformers->sent2vec) (7.1.2)\n",
            "Requirement already satisfied: joblib in /usr/local/lib/python3.7/dist-packages (from sacremoses->transformers->sent2vec) (1.0.1)\n",
            "Requirement already satisfied: pyparsing>=2.0.2 in /usr/local/lib/python3.7/dist-packages (from packaging->transformers->sent2vec) (2.4.7)\n",
            "Requirement already satisfied: chardet<4,>=3.0.2 in /usr/local/lib/python3.7/dist-packages (from requests->transformers->sent2vec) (3.0.4)\n",
            "Requirement already satisfied: certifi>=2017.4.17 in /usr/local/lib/python3.7/dist-packages (from requests->transformers->sent2vec) (2020.12.5)\n",
            "Requirement already satisfied: idna<3,>=2.5 in /usr/local/lib/python3.7/dist-packages (from requests->transformers->sent2vec) (2.10)\n",
            "Requirement already satisfied: urllib3!=1.25.0,!=1.25.1,<1.26,>=1.21.1 in /usr/local/lib/python3.7/dist-packages (from requests->transformers->sent2vec) (1.24.3)\n",
            "Requirement already satisfied: zipp>=0.5 in /usr/local/lib/python3.7/dist-packages (from importlib-metadata; python_version < \"3.8\"->transformers->sent2vec) (3.4.1)\n"
          ],
          "name": "stdout"
        }
      ]
    },
    {
      "cell_type": "code",
      "metadata": {
        "id": "72XcssW4e0Qe"
      },
      "source": [
        "from scipy import spatial\n",
        "from sent2vec.vectorizer import Vectorizer"
      ],
      "execution_count": 69,
      "outputs": []
    },
    {
      "cell_type": "code",
      "metadata": {
        "id": "t_yw8KFFf8rO"
      },
      "source": [
        "vectorizer1 = Vectorizer()\n",
        "vectorizer.bert(sentences)\n",
        "vectors_bert1 = vectorizer.vectors"
      ],
      "execution_count": 70,
      "outputs": []
    },
    {
      "cell_type": "code",
      "metadata": {
        "id": "m-8USA5f5aXP"
      },
      "source": [
        "vectorizer2 = Vectorizer()\n",
        "vectorizer.bert(Sys_Exception)\n",
        "vectors_bert2 = vectorizer.vectors"
      ],
      "execution_count": 71,
      "outputs": []
    },
    {
      "cell_type": "code",
      "metadata": {
        "id": "7TOOtEDx7yq2"
      },
      "source": [
        "vectorizer3 = Vectorizer()\n",
        "vectorizer.bert(Bus_Exception)\n",
        "vectors_bert3 = vectorizer.vectors"
      ],
      "execution_count": 72,
      "outputs": []
    },
    {
      "cell_type": "code",
      "metadata": {
        "colab": {
          "base_uri": "https://localhost:8080/"
        },
        "id": "LyyIYa-BgeKf",
        "outputId": "5f946a62-dac4-4a3c-96d7-9367bd32c216"
      },
      "source": [
        "min1 = 100\n",
        "min2 = 100\n",
        "for k in range(2):\n",
        "  for i in range(11):\n",
        "    min1 = min(min1, spatial.distance.cosine(vectors_bert1[k], vectors_bert2[i]))\n",
        "  for i in range(8):\n",
        "    min2 = min(min2, spatial.distance.cosine(vectors_bert1[k], vectors_bert3[i]))\n",
        "if (min1<min2):\n",
        "  print(\"System Exception\")\n",
        "else:\n",
        "  print(\"Business Exception\")"
      ],
      "execution_count": 75,
      "outputs": [
        {
          "output_type": "stream",
          "text": [
            "System Exception\n"
          ],
          "name": "stdout"
        }
      ]
    }
  ]
}
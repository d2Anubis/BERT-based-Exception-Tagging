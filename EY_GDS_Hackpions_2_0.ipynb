{
  "nbformat": 4,
  "nbformat_minor": 0,
  "metadata": {
    "colab": {
      "name": "EY GDS Hackpions 2.0.ipynb",
      "provenance": [],
      "toc_visible": true
    },
    "kernelspec": {
      "display_name": "Python 3",
      "name": "python3"
    },
    "language_info": {
      "name": "python"
    }
  },
  "cells": [
    {
      "cell_type": "markdown",
      "metadata": {
        "id": "Pc-rKDkHT3b6"
      },
      "source": [
        "All the modules used in creating this notebook is open-source and free.\n",
        "\n"
      ]
    },
    {
      "cell_type": "markdown",
      "metadata": {
        "id": "ywXBNZQGnp7X"
      },
      "source": [
        "# Reading and Analyzing data"
      ]
    },
    {
      "cell_type": "code",
      "metadata": {
        "id": "yMV46_Ju3hhR"
      },
      "source": [
        "#reading the excel file\n",
        "import pandas as pd\n",
        "dfs = pd.read_excel('/content/Datasets EY GDS.xlsx')"
      ],
      "execution_count": 23,
      "outputs": []
    },
    {
      "cell_type": "code",
      "metadata": {
        "id": "RwcXCIvlmZ2J"
      },
      "source": [
        "input = pd.read_excel('/content/Datasets EY GDS.xlsx', sheet_name='Input')"
      ],
      "execution_count": 24,
      "outputs": []
    },
    {
      "cell_type": "code",
      "metadata": {
        "colab": {
          "base_uri": "https://localhost:8080/",
          "height": 204
        },
        "id": "1Bwh3QB6oKyt",
        "outputId": "32d687eb-009a-47ee-ae2e-acb259b402f3"
      },
      "source": [
        "input.head()"
      ],
      "execution_count": 25,
      "outputs": [
        {
          "output_type": "execute_result",
          "data": {
            "text/html": [
              "<div>\n",
              "<style scoped>\n",
              "    .dataframe tbody tr th:only-of-type {\n",
              "        vertical-align: middle;\n",
              "    }\n",
              "\n",
              "    .dataframe tbody tr th {\n",
              "        vertical-align: top;\n",
              "    }\n",
              "\n",
              "    .dataframe thead th {\n",
              "        text-align: right;\n",
              "    }\n",
              "</style>\n",
              "<table border=\"1\" class=\"dataframe\">\n",
              "  <thead>\n",
              "    <tr style=\"text-align: right;\">\n",
              "      <th></th>\n",
              "      <th>Exception (input)</th>\n",
              "      <th>Queue</th>\n",
              "      <th>Process</th>\n",
              "    </tr>\n",
              "  </thead>\n",
              "  <tbody>\n",
              "    <tr>\n",
              "      <th>0</th>\n",
              "      <td>Invite not found in both CBS mailbox</td>\n",
              "      <td>Queue-12</td>\n",
              "      <td>Process-9</td>\n",
              "    </tr>\n",
              "    <tr>\n",
              "      <th>1</th>\n",
              "      <td>Interviewer xxxx mail ID not found in invite.</td>\n",
              "      <td>Queue-12</td>\n",
              "      <td>Process-9</td>\n",
              "    </tr>\n",
              "    <tr>\n",
              "      <th>2</th>\n",
              "      <td>Invite not found in both TAX and PAS mailbox</td>\n",
              "      <td>Queue-12</td>\n",
              "      <td>Process-9</td>\n",
              "    </tr>\n",
              "    <tr>\n",
              "      <th>3</th>\n",
              "      <td>InternalFailed to evaluate expression 'Replace...</td>\n",
              "      <td>Queue-14</td>\n",
              "      <td>Process-11</td>\n",
              "    </tr>\n",
              "    <tr>\n",
              "      <th>4</th>\n",
              "      <td>Could not execute code stage because exception...</td>\n",
              "      <td>Queue-16</td>\n",
              "      <td>Process-13</td>\n",
              "    </tr>\n",
              "  </tbody>\n",
              "</table>\n",
              "</div>"
            ],
            "text/plain": [
              "                                   Exception (input)     Queue     Process\n",
              "0               Invite not found in both CBS mailbox  Queue-12   Process-9\n",
              "1     Interviewer xxxx mail ID not found in invite.   Queue-12   Process-9\n",
              "2       Invite not found in both TAX and PAS mailbox  Queue-12   Process-9\n",
              "3  InternalFailed to evaluate expression 'Replace...  Queue-14  Process-11\n",
              "4  Could not execute code stage because exception...  Queue-16  Process-13"
            ]
          },
          "metadata": {
            "tags": []
          },
          "execution_count": 25
        }
      ]
    },
    {
      "cell_type": "code",
      "metadata": {
        "id": "UXU6hz3d33Ms"
      },
      "source": [
        "tag = pd.read_excel('/content/Datasets EY GDS.xlsx', sheet_name='Keywords for tagging')"
      ],
      "execution_count": 26,
      "outputs": []
    },
    {
      "cell_type": "code",
      "metadata": {
        "colab": {
          "base_uri": "https://localhost:8080/",
          "height": 204
        },
        "id": "DI4SqgJgoQQy",
        "outputId": "60a98e31-5610-4ace-f869-0839e8d8c516"
      },
      "source": [
        "tag.head()"
      ],
      "execution_count": 27,
      "outputs": [
        {
          "output_type": "execute_result",
          "data": {
            "text/html": [
              "<div>\n",
              "<style scoped>\n",
              "    .dataframe tbody tr th:only-of-type {\n",
              "        vertical-align: middle;\n",
              "    }\n",
              "\n",
              "    .dataframe tbody tr th {\n",
              "        vertical-align: top;\n",
              "    }\n",
              "\n",
              "    .dataframe thead th {\n",
              "        text-align: right;\n",
              "    }\n",
              "</style>\n",
              "<table border=\"1\" class=\"dataframe\">\n",
              "  <thead>\n",
              "    <tr style=\"text-align: right;\">\n",
              "      <th></th>\n",
              "      <th>Keywords for System Exception</th>\n",
              "      <th>Keywords for Business Exception</th>\n",
              "    </tr>\n",
              "  </thead>\n",
              "  <tbody>\n",
              "    <tr>\n",
              "      <th>0</th>\n",
              "      <td>Unable to launch service</td>\n",
              "      <td>Missing the mandatory fields</td>\n",
              "    </tr>\n",
              "    <tr>\n",
              "      <th>1</th>\n",
              "      <td>Failed to fetch data</td>\n",
              "      <td>Mail Id not found</td>\n",
              "    </tr>\n",
              "    <tr>\n",
              "      <th>2</th>\n",
              "      <td>Failed fetching Site issue</td>\n",
              "      <td>Invite is not found</td>\n",
              "    </tr>\n",
              "    <tr>\n",
              "      <th>3</th>\n",
              "      <td>Code stage not executed</td>\n",
              "      <td>Template is not found</td>\n",
              "    </tr>\n",
              "    <tr>\n",
              "      <th>4</th>\n",
              "      <td>Exception occured in processing</td>\n",
              "      <td>Error in Input File</td>\n",
              "    </tr>\n",
              "  </tbody>\n",
              "</table>\n",
              "</div>"
            ],
            "text/plain": [
              "     Keywords for System Exception Keywords for Business Exception\n",
              "0         Unable to launch service    Missing the mandatory fields\n",
              "1             Failed to fetch data               Mail Id not found\n",
              "2       Failed fetching Site issue             Invite is not found\n",
              "3          Code stage not executed           Template is not found\n",
              "4  Exception occured in processing             Error in Input File"
            ]
          },
          "metadata": {
            "tags": []
          },
          "execution_count": 27
        }
      ]
    },
    {
      "cell_type": "markdown",
      "metadata": {
        "id": "uLPAa-N4Oa2H"
      },
      "source": [
        "# Data Cleaning\n",
        "\n",
        "Regex helps in cleaning text based data on the basis of pattern. </br>\n",
        "Using regular rexpressions we have cleaned our data in following ways:\n",
        "1. Conversions of entire text in lower cases\n",
        "2. Removing texts between brackets \n",
        "3. Removing digits and unwanted symbols\n",
        "4. Removing extra white spaces"
      ]
    },
    {
      "cell_type": "code",
      "metadata": {
        "id": "qPBCpnL5Fxfr"
      },
      "source": [
        "#importing regex for data cleaning\n",
        "import re   \n",
        "\n",
        "def cleaning_data(text): #function that cleans the data\n",
        "  text=text.lower()   #converting text to lower case\n",
        "  text=re.sub(\"([\\(\\[]).*?([\\)\\]])\", \"\\g<1>\\g<2>\", text)  #removing text between brackets\n",
        "  text=re.sub(r'[^a-zA-Z ]+', '', text)   #removing all characters except letters\n",
        "  text=re.sub(\"\\s+\",\" \",text)   #removing extra white spaces\n",
        "  return text"
      ],
      "execution_count": 28,
      "outputs": []
    },
    {
      "cell_type": "code",
      "metadata": {
        "id": "siV0UgsvN8NR"
      },
      "source": [
        "#passing text to get cleaned\n",
        "text = input[\"Exception (input)\"][0]\n",
        "text = cleaning_data(text)"
      ],
      "execution_count": 29,
      "outputs": []
    },
    {
      "cell_type": "code",
      "metadata": {
        "colab": {
          "base_uri": "https://localhost:8080/"
        },
        "id": "Rgyi49w1jTqI",
        "outputId": "814e8a9b-2a5a-4bf7-fe21-39e4b275da0a"
      },
      "source": [
        "print(text)"
      ],
      "execution_count": 30,
      "outputs": [
        {
          "output_type": "stream",
          "text": [
            "invite not found in both cbs mailbox\n"
          ],
          "name": "stdout"
        }
      ]
    },
    {
      "cell_type": "markdown",
      "metadata": {
        "id": "DqkqNrQ-SwcJ"
      },
      "source": [
        "# Extracting Keyword\n",
        "\n",
        "We have implemented YAKE! for extraction of keywords from texts.</br>\n",
        "Reasons to use Yake! over many other keyword extracting techniques are:\n",
        "1. It is light-weight, unsupervised approach\n",
        "2. It has outperformed many of the exisiting state-of-the-art methods\n",
        "3. It is corpus and domain independent"
      ]
    },
    {
      "cell_type": "code",
      "metadata": {
        "colab": {
          "base_uri": "https://localhost:8080/"
        },
        "id": "aeA3gfpeOG8S",
        "outputId": "fc8428e8-34ab-4344-ce0f-dc1ba9bad849"
      },
      "source": [
        "#installing and importing yake\n",
        "!pip install yake\n",
        "\n",
        "import yake"
      ],
      "execution_count": 31,
      "outputs": [
        {
          "output_type": "stream",
          "text": [
            "Requirement already satisfied: yake in /usr/local/lib/python3.7/dist-packages (0.4.7)\n",
            "Requirement already satisfied: click>=6.0 in /usr/local/lib/python3.7/dist-packages (from yake) (7.1.2)\n",
            "Requirement already satisfied: segtok in /usr/local/lib/python3.7/dist-packages (from yake) (1.5.10)\n",
            "Requirement already satisfied: numpy in /usr/local/lib/python3.7/dist-packages (from yake) (1.19.5)\n",
            "Requirement already satisfied: tabulate in /usr/local/lib/python3.7/dist-packages (from yake) (0.8.9)\n",
            "Requirement already satisfied: networkx in /usr/local/lib/python3.7/dist-packages (from yake) (2.5.1)\n",
            "Requirement already satisfied: jellyfish in /usr/local/lib/python3.7/dist-packages (from yake) (0.8.2)\n",
            "Requirement already satisfied: regex in /usr/local/lib/python3.7/dist-packages (from segtok->yake) (2019.12.20)\n",
            "Requirement already satisfied: decorator<5,>=4.3 in /usr/local/lib/python3.7/dist-packages (from networkx->yake) (4.4.2)\n"
          ],
          "name": "stdout"
        }
      ]
    },
    {
      "cell_type": "code",
      "metadata": {
        "id": "x-YPxWlGeLIv"
      },
      "source": [
        "#providing the parameters\n",
        "language = \"en\"\n",
        "max_ngram_size = 4\n",
        "numOfKeywords = 2\n",
        "\n",
        "kw_extractor = yake.KeywordExtractor(lan=language, n=max_ngram_size, top=numOfKeywords, features=None)\n",
        "\n",
        "#extracting the keywords\n",
        "keywords = kw_extractor.extract_keywords(text)\n",
        "\n",
        "#list of keywords\n",
        "sentences=[]\n",
        "sentences.append(text)\n",
        "for kw in keywords:\n",
        "  sentences.append(kw[0])"
      ],
      "execution_count": 32,
      "outputs": []
    },
    {
      "cell_type": "markdown",
      "metadata": {
        "id": "9JDKblF4e16J"
      },
      "source": [
        "# Classifying Keywords"
      ]
    },
    {
      "cell_type": "code",
      "metadata": {
        "id": "Hg2CRYPs4Mb8"
      },
      "source": [
        "#list of system exceptions\n",
        "Sys_Exception=[]\n",
        "for i in range(11):\n",
        "  Sys_Exception.append(tag['Keywords for System Exception'][i])"
      ],
      "execution_count": 33,
      "outputs": []
    },
    {
      "cell_type": "code",
      "metadata": {
        "id": "EmZbNmrO4fwn"
      },
      "source": [
        "#list of business exceptions\n",
        "Bus_Exception=[]\n",
        "for i in range(8):\n",
        "  Bus_Exception.append(tag['Keywords for Business Exception'][i])"
      ],
      "execution_count": 34,
      "outputs": []
    },
    {
      "cell_type": "code",
      "metadata": {
        "colab": {
          "base_uri": "https://localhost:8080/"
        },
        "id": "jbhj42l1eWL4",
        "outputId": "87033799-dda0-4e84-fd81-4b8051ff4b5e"
      },
      "source": [
        "!pip install sent2vec"
      ],
      "execution_count": 13,
      "outputs": [
        {
          "output_type": "stream",
          "text": [
            "Requirement already satisfied: sent2vec in /usr/local/lib/python3.7/dist-packages (0.2.0)\n",
            "Requirement already satisfied: spacy in /usr/local/lib/python3.7/dist-packages (from sent2vec) (2.2.4)\n",
            "Requirement already satisfied: torch in /usr/local/lib/python3.7/dist-packages (from sent2vec) (1.8.1+cu101)\n",
            "Requirement already satisfied: transformers in /usr/local/lib/python3.7/dist-packages (from sent2vec) (4.5.1)\n",
            "Requirement already satisfied: gensim in /usr/local/lib/python3.7/dist-packages (from sent2vec) (3.6.0)\n",
            "Requirement already satisfied: numpy in /usr/local/lib/python3.7/dist-packages (from sent2vec) (1.19.5)\n",
            "Requirement already satisfied: thinc==7.4.0 in /usr/local/lib/python3.7/dist-packages (from spacy->sent2vec) (7.4.0)\n",
            "Requirement already satisfied: srsly<1.1.0,>=1.0.2 in /usr/local/lib/python3.7/dist-packages (from spacy->sent2vec) (1.0.5)\n",
            "Requirement already satisfied: cymem<2.1.0,>=2.0.2 in /usr/local/lib/python3.7/dist-packages (from spacy->sent2vec) (2.0.5)\n",
            "Requirement already satisfied: tqdm<5.0.0,>=4.38.0 in /usr/local/lib/python3.7/dist-packages (from spacy->sent2vec) (4.41.1)\n",
            "Requirement already satisfied: blis<0.5.0,>=0.4.0 in /usr/local/lib/python3.7/dist-packages (from spacy->sent2vec) (0.4.1)\n",
            "Requirement already satisfied: murmurhash<1.1.0,>=0.28.0 in /usr/local/lib/python3.7/dist-packages (from spacy->sent2vec) (1.0.5)\n",
            "Requirement already satisfied: requests<3.0.0,>=2.13.0 in /usr/local/lib/python3.7/dist-packages (from spacy->sent2vec) (2.23.0)\n",
            "Requirement already satisfied: wasabi<1.1.0,>=0.4.0 in /usr/local/lib/python3.7/dist-packages (from spacy->sent2vec) (0.8.2)\n",
            "Requirement already satisfied: plac<1.2.0,>=0.9.6 in /usr/local/lib/python3.7/dist-packages (from spacy->sent2vec) (1.1.3)\n",
            "Requirement already satisfied: preshed<3.1.0,>=3.0.2 in /usr/local/lib/python3.7/dist-packages (from spacy->sent2vec) (3.0.5)\n",
            "Requirement already satisfied: catalogue<1.1.0,>=0.0.7 in /usr/local/lib/python3.7/dist-packages (from spacy->sent2vec) (1.0.0)\n",
            "Requirement already satisfied: setuptools in /usr/local/lib/python3.7/dist-packages (from spacy->sent2vec) (56.0.0)\n",
            "Requirement already satisfied: typing-extensions in /usr/local/lib/python3.7/dist-packages (from torch->sent2vec) (3.7.4.3)\n",
            "Requirement already satisfied: sacremoses in /usr/local/lib/python3.7/dist-packages (from transformers->sent2vec) (0.0.45)\n",
            "Requirement already satisfied: importlib-metadata; python_version < \"3.8\" in /usr/local/lib/python3.7/dist-packages (from transformers->sent2vec) (3.10.1)\n",
            "Requirement already satisfied: filelock in /usr/local/lib/python3.7/dist-packages (from transformers->sent2vec) (3.0.12)\n",
            "Requirement already satisfied: regex!=2019.12.17 in /usr/local/lib/python3.7/dist-packages (from transformers->sent2vec) (2019.12.20)\n",
            "Requirement already satisfied: tokenizers<0.11,>=0.10.1 in /usr/local/lib/python3.7/dist-packages (from transformers->sent2vec) (0.10.2)\n",
            "Requirement already satisfied: packaging in /usr/local/lib/python3.7/dist-packages (from transformers->sent2vec) (20.9)\n",
            "Requirement already satisfied: six>=1.5.0 in /usr/local/lib/python3.7/dist-packages (from gensim->sent2vec) (1.15.0)\n",
            "Requirement already satisfied: scipy>=0.18.1 in /usr/local/lib/python3.7/dist-packages (from gensim->sent2vec) (1.4.1)\n",
            "Requirement already satisfied: smart-open>=1.2.1 in /usr/local/lib/python3.7/dist-packages (from gensim->sent2vec) (5.0.0)\n",
            "Requirement already satisfied: certifi>=2017.4.17 in /usr/local/lib/python3.7/dist-packages (from requests<3.0.0,>=2.13.0->spacy->sent2vec) (2020.12.5)\n",
            "Requirement already satisfied: urllib3!=1.25.0,!=1.25.1,<1.26,>=1.21.1 in /usr/local/lib/python3.7/dist-packages (from requests<3.0.0,>=2.13.0->spacy->sent2vec) (1.24.3)\n",
            "Requirement already satisfied: chardet<4,>=3.0.2 in /usr/local/lib/python3.7/dist-packages (from requests<3.0.0,>=2.13.0->spacy->sent2vec) (3.0.4)\n",
            "Requirement already satisfied: idna<3,>=2.5 in /usr/local/lib/python3.7/dist-packages (from requests<3.0.0,>=2.13.0->spacy->sent2vec) (2.10)\n",
            "Requirement already satisfied: click in /usr/local/lib/python3.7/dist-packages (from sacremoses->transformers->sent2vec) (7.1.2)\n",
            "Requirement already satisfied: joblib in /usr/local/lib/python3.7/dist-packages (from sacremoses->transformers->sent2vec) (1.0.1)\n",
            "Requirement already satisfied: zipp>=0.5 in /usr/local/lib/python3.7/dist-packages (from importlib-metadata; python_version < \"3.8\"->transformers->sent2vec) (3.4.1)\n",
            "Requirement already satisfied: pyparsing>=2.0.2 in /usr/local/lib/python3.7/dist-packages (from packaging->transformers->sent2vec) (2.4.7)\n"
          ],
          "name": "stdout"
        }
      ]
    },
    {
      "cell_type": "code",
      "metadata": {
        "id": "72XcssW4e0Qe"
      },
      "source": [
        "from scipy import spatial\n",
        "from sent2vec.vectorizer import Vectorizer"
      ],
      "execution_count": 35,
      "outputs": []
    },
    {
      "cell_type": "code",
      "metadata": {
        "id": "t_yw8KFFf8rO"
      },
      "source": [
        "#converting the keywords into vectors\n",
        "vectorizer1 = Vectorizer()\n",
        "vectorizer1.bert(sentences)\n",
        "vectors_bert1 = vectorizer1.vectors"
      ],
      "execution_count": 36,
      "outputs": []
    },
    {
      "cell_type": "code",
      "metadata": {
        "id": "m-8USA5f5aXP"
      },
      "source": [
        "#converting the system exception into vectors\n",
        "vectorizer2 = Vectorizer()\n",
        "vectorizer2.bert(Sys_Exception)\n",
        "vectors_bert2 = vectorizer2.vectors"
      ],
      "execution_count": 37,
      "outputs": []
    },
    {
      "cell_type": "code",
      "metadata": {
        "id": "7TOOtEDx7yq2"
      },
      "source": [
        "#converting the business exception into vectors\n",
        "vectorizer3 = Vectorizer()\n",
        "vectorizer3.bert(Bus_Exception)\n",
        "vectors_bert3 = vectorizer3.vectors"
      ],
      "execution_count": 38,
      "outputs": []
    },
    {
      "cell_type": "code",
      "metadata": {
        "colab": {
          "base_uri": "https://localhost:8080/"
        },
        "id": "LyyIYa-BgeKf",
        "outputId": "3cfb8468-1e81-444b-97ee-293cc10f94c8"
      },
      "source": [
        "#minimum distance from text is printed\n",
        "min1 = 100\n",
        "min2 = 100\n",
        "for k in range(3):\n",
        "  for i in range(11):\n",
        "    min1 = min(min1, spatial.distance.cosine(vectors_bert1[k], vectors_bert2[i]))\n",
        "  for i in range(8):\n",
        "    min2 = min(min2, spatial.distance.cosine(vectors_bert1[k], vectors_bert3[i]))\n",
        "if (min1<min2):\n",
        "  print(\"System Exception\")\n",
        "else:\n",
        "  print(\"Business Exception\")"
      ],
      "execution_count": 39,
      "outputs": [
        {
          "output_type": "stream",
          "text": [
            "Business Exception\n",
            "Business Exception\n"
          ],
          "name": "stdout"
        }
      ]
    },
    {
      "cell_type": "markdown",
      "metadata": {
        "id": "tW_2YLfklera"
      },
      "source": [
        "# Extracting similar issues"
      ]
    },
    {
      "cell_type": "markdown",
      "metadata": {
        "id": "7lHLgKL_nLN9"
      },
      "source": [
        "Implementation of BM25 for similar top-n text retrieval."
      ]
    },
    {
      "cell_type": "code",
      "metadata": {
        "id": "k2hSyG2Os-JD",
        "colab": {
          "base_uri": "https://localhost:8080/"
        },
        "outputId": "a07c4804-afa3-4881-e66f-a67abde433b3"
      },
      "source": [
        "!pip install rank_bm25"
      ],
      "execution_count": 40,
      "outputs": [
        {
          "output_type": "stream",
          "text": [
            "Requirement already satisfied: rank_bm25 in /usr/local/lib/python3.7/dist-packages (0.2.1)\n",
            "Requirement already satisfied: numpy in /usr/local/lib/python3.7/dist-packages (from rank_bm25) (1.19.5)\n",
            "Requirement already satisfied: rank_bm25 in /usr/local/lib/python3.7/dist-packages (0.2.1)\n",
            "Requirement already satisfied: numpy in /usr/local/lib/python3.7/dist-packages (from rank_bm25) (1.19.5)\n"
          ],
          "name": "stdout"
        }
      ]
    },
    {
      "cell_type": "code",
      "metadata": {
        "id": "Fpbw61q8ld9z"
      },
      "source": [
        "from rank_bm25 import BM25Okapi\n",
        "\n",
        "#tokenizing the corpus from where to retrieve similar issues\n",
        "corpus = input[\"Exception (input)\"]\n",
        "\n",
        "tokenized_corpus = [doc.split(\" \") for doc in corpus]\n",
        "\n",
        "bm25 = BM25Okapi(tokenized_corpus)"
      ],
      "execution_count": 41,
      "outputs": []
    },
    {
      "cell_type": "code",
      "metadata": {
        "id": "O7hFw1OilmxV"
      },
      "source": [
        "#using the first keyword as query\n",
        "\n",
        "query = sentences[0]\n",
        "tokenized_query = query.split(\" \")"
      ],
      "execution_count": 42,
      "outputs": []
    },
    {
      "cell_type": "code",
      "metadata": {
        "colab": {
          "base_uri": "https://localhost:8080/"
        },
        "id": "KpEyR1Milqgx",
        "outputId": "45b28676-0fde-4286-cdae-be54d8554564"
      },
      "source": [
        "#receiving top-3 similar issues from the text\n",
        "bm25.get_top_n(tokenized_query, corpus, n=3)"
      ],
      "execution_count": 43,
      "outputs": [
        {
          "output_type": "execute_result",
          "data": {
            "text/plain": [
              "['Invite not found in both CBS mailbox',\n",
              " 'Invite not found in both TAX and PAS mailbox',\n",
              " 'Invite not found in Assurance Mailbox']"
            ]
          },
          "metadata": {
            "tags": []
          },
          "execution_count": 22
        },
        {
          "output_type": "execute_result",
          "data": {
            "text/plain": [
              "['Invite not found in both CBS mailbox',\n",
              " 'Invite not found in both TAX and PAS mailbox',\n",
              " 'Invite not found in Assurance Mailbox']"
            ]
          },
          "metadata": {
            "tags": []
          },
          "execution_count": 43
        }
      ]
    }
  ]
}
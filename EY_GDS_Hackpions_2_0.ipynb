{
  "nbformat": 4,
  "nbformat_minor": 0,
  "metadata": {
    "colab": {
      "name": "EY GDS Hackpions 2.0.ipynb",
      "provenance": []
    },
    "kernelspec": {
      "display_name": "Python 3",
      "name": "python3"
    },
    "language_info": {
      "name": "python"
    }
  },
  "cells": [
    {
      "cell_type": "markdown",
      "metadata": {
        "id": "Pc-rKDkHT3b6"
      },
      "source": [
        "All the modules used in creating this notebook is open-source and free.\n",
        "\n",
        "The proposed solution to the tagging of exceptions and it's self-healing process has been implemented in the following manner. \n",
        "\n",
        "![Architecture.png](data:image/png;base64,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)\n",
        "\n",
        "This notebook consists of the following sections as the implemenation of above architecture: \n",
        "\n",
        "1. Data cleaning \n",
        "2. Keyword Extraction \n",
        "3. Keyword Classification\n",
        "4. Similar Issues Extraction\n",
        "5. Finding Solution\n"
      ]
    },
    {
      "cell_type": "markdown",
      "metadata": {
        "id": "ywXBNZQGnp7X"
      },
      "source": [
        "# Reading and Analyzing data"
      ]
    },
    {
      "cell_type": "code",
      "metadata": {
        "id": "yMV46_Ju3hhR"
      },
      "source": [
        "#reading the excel file\n",
        "import pandas as pd\n",
        "dfs = pd.read_excel('/content/Datasets EY GDS.xlsx')"
      ],
      "execution_count": null,
      "outputs": []
    },
    {
      "cell_type": "code",
      "metadata": {
        "id": "RwcXCIvlmZ2J"
      },
      "source": [
        "#reading the input sheet\n",
        "input = pd.read_excel('/content/Datasets EY GDS.xlsx', sheet_name='Input')"
      ],
      "execution_count": null,
      "outputs": []
    },
    {
      "cell_type": "code",
      "metadata": {
        "colab": {
          "base_uri": "https://localhost:8080/",
          "height": 204
        },
        "id": "1Bwh3QB6oKyt",
        "outputId": "5a26d0d4-9c00-469a-b891-1fe03ad6572f"
      },
      "source": [
        "#reading top five rows of input sheet\n",
        "input.head()"
      ],
      "execution_count": null,
      "outputs": [
        {
          "output_type": "execute_result",
          "data": {
            "text/html": [
              "<div>\n",
              "<style scoped>\n",
              "    .dataframe tbody tr th:only-of-type {\n",
              "        vertical-align: middle;\n",
              "    }\n",
              "\n",
              "    .dataframe tbody tr th {\n",
              "        vertical-align: top;\n",
              "    }\n",
              "\n",
              "    .dataframe thead th {\n",
              "        text-align: right;\n",
              "    }\n",
              "</style>\n",
              "<table border=\"1\" class=\"dataframe\">\n",
              "  <thead>\n",
              "    <tr style=\"text-align: right;\">\n",
              "      <th></th>\n",
              "      <th>Exception (input)</th>\n",
              "      <th>Queue</th>\n",
              "      <th>Process</th>\n",
              "    </tr>\n",
              "  </thead>\n",
              "  <tbody>\n",
              "    <tr>\n",
              "      <th>0</th>\n",
              "      <td>Invite not found in both CBS mailbox</td>\n",
              "      <td>Queue-12</td>\n",
              "      <td>Process-9</td>\n",
              "    </tr>\n",
              "    <tr>\n",
              "      <th>1</th>\n",
              "      <td>Interviewer xxxx mail ID not found in invite.</td>\n",
              "      <td>Queue-12</td>\n",
              "      <td>Process-9</td>\n",
              "    </tr>\n",
              "    <tr>\n",
              "      <th>2</th>\n",
              "      <td>Invite not found in both TAX and PAS mailbox</td>\n",
              "      <td>Queue-12</td>\n",
              "      <td>Process-9</td>\n",
              "    </tr>\n",
              "    <tr>\n",
              "      <th>3</th>\n",
              "      <td>InternalFailed to evaluate expression 'Replace...</td>\n",
              "      <td>Queue-14</td>\n",
              "      <td>Process-11</td>\n",
              "    </tr>\n",
              "    <tr>\n",
              "      <th>4</th>\n",
              "      <td>Could not execute code stage because exception...</td>\n",
              "      <td>Queue-16</td>\n",
              "      <td>Process-13</td>\n",
              "    </tr>\n",
              "  </tbody>\n",
              "</table>\n",
              "</div>"
            ],
            "text/plain": [
              "                                   Exception (input)     Queue     Process\n",
              "0               Invite not found in both CBS mailbox  Queue-12   Process-9\n",
              "1     Interviewer xxxx mail ID not found in invite.   Queue-12   Process-9\n",
              "2       Invite not found in both TAX and PAS mailbox  Queue-12   Process-9\n",
              "3  InternalFailed to evaluate expression 'Replace...  Queue-14  Process-11\n",
              "4  Could not execute code stage because exception...  Queue-16  Process-13"
            ]
          },
          "metadata": {
            "tags": []
          },
          "execution_count": 68
        }
      ]
    },
    {
      "cell_type": "code",
      "metadata": {
        "id": "UXU6hz3d33Ms"
      },
      "source": [
        "#reading the sheets which consists of keywords for tagging\n",
        "tag = pd.read_excel('/content/Datasets EY GDS.xlsx', sheet_name='Keywords for tagging')"
      ],
      "execution_count": null,
      "outputs": []
    },
    {
      "cell_type": "code",
      "metadata": {
        "colab": {
          "base_uri": "https://localhost:8080/",
          "height": 204
        },
        "id": "DI4SqgJgoQQy",
        "outputId": "99a9ce29-2de2-4ca3-a2e3-7900a4bb5ff7"
      },
      "source": [
        "#reading top five rows of the keywords for tagging \n",
        "tag.head()"
      ],
      "execution_count": null,
      "outputs": [
        {
          "output_type": "execute_result",
          "data": {
            "text/html": [
              "<div>\n",
              "<style scoped>\n",
              "    .dataframe tbody tr th:only-of-type {\n",
              "        vertical-align: middle;\n",
              "    }\n",
              "\n",
              "    .dataframe tbody tr th {\n",
              "        vertical-align: top;\n",
              "    }\n",
              "\n",
              "    .dataframe thead th {\n",
              "        text-align: right;\n",
              "    }\n",
              "</style>\n",
              "<table border=\"1\" class=\"dataframe\">\n",
              "  <thead>\n",
              "    <tr style=\"text-align: right;\">\n",
              "      <th></th>\n",
              "      <th>Keywords for System Exception</th>\n",
              "      <th>Keywords for Business Exception</th>\n",
              "    </tr>\n",
              "  </thead>\n",
              "  <tbody>\n",
              "    <tr>\n",
              "      <th>0</th>\n",
              "      <td>Unable to launch service</td>\n",
              "      <td>Missing the mandatory fields</td>\n",
              "    </tr>\n",
              "    <tr>\n",
              "      <th>1</th>\n",
              "      <td>Failed to fetch data</td>\n",
              "      <td>Mail Id not found</td>\n",
              "    </tr>\n",
              "    <tr>\n",
              "      <th>2</th>\n",
              "      <td>Failed fetching Site issue</td>\n",
              "      <td>Invite is not found</td>\n",
              "    </tr>\n",
              "    <tr>\n",
              "      <th>3</th>\n",
              "      <td>Code stage not executed</td>\n",
              "      <td>Template is not found</td>\n",
              "    </tr>\n",
              "    <tr>\n",
              "      <th>4</th>\n",
              "      <td>Exception occured in processing</td>\n",
              "      <td>Error in Input File</td>\n",
              "    </tr>\n",
              "  </tbody>\n",
              "</table>\n",
              "</div>"
            ],
            "text/plain": [
              "     Keywords for System Exception Keywords for Business Exception\n",
              "0         Unable to launch service    Missing the mandatory fields\n",
              "1             Failed to fetch data               Mail Id not found\n",
              "2       Failed fetching Site issue             Invite is not found\n",
              "3          Code stage not executed           Template is not found\n",
              "4  Exception occured in processing             Error in Input File"
            ]
          },
          "metadata": {
            "tags": []
          },
          "execution_count": 70
        }
      ]
    },
    {
      "cell_type": "code",
      "metadata": {
        "colab": {
          "base_uri": "https://localhost:8080/",
          "height": 204
        },
        "id": "IgeXNjJxz4jd",
        "outputId": "62e99412-265f-411a-861e-119c4faf7494"
      },
      "source": [
        "#reading the train dataset\n",
        "train = pd.read_excel('/content/Datasets EY GDS.xlsx', sheet_name='Training Data ')\n",
        "train.head()"
      ],
      "execution_count": null,
      "outputs": [
        {
          "output_type": "execute_result",
          "data": {
            "text/html": [
              "<div>\n",
              "<style scoped>\n",
              "    .dataframe tbody tr th:only-of-type {\n",
              "        vertical-align: middle;\n",
              "    }\n",
              "\n",
              "    .dataframe tbody tr th {\n",
              "        vertical-align: top;\n",
              "    }\n",
              "\n",
              "    .dataframe thead th {\n",
              "        text-align: right;\n",
              "    }\n",
              "</style>\n",
              "<table border=\"1\" class=\"dataframe\">\n",
              "  <thead>\n",
              "    <tr style=\"text-align: right;\">\n",
              "      <th></th>\n",
              "      <th>Exception (input)</th>\n",
              "      <th>Queue</th>\n",
              "      <th>Process</th>\n",
              "      <th>Exception Category (ouput)</th>\n",
              "      <th>Solution</th>\n",
              "    </tr>\n",
              "  </thead>\n",
              "  <tbody>\n",
              "    <tr>\n",
              "      <th>0</th>\n",
              "      <td>Invite not found in both CBS mailbox</td>\n",
              "      <td>Queue-12</td>\n",
              "      <td>Process-9</td>\n",
              "      <td>Business Exception</td>\n",
              "      <td>Lorem Ipsum is simply dummy text of the printi...</td>\n",
              "    </tr>\n",
              "    <tr>\n",
              "      <th>1</th>\n",
              "      <td>Interviewer xxxx mail ID not found in invite.</td>\n",
              "      <td>Queue-12</td>\n",
              "      <td>Process-9</td>\n",
              "      <td>Business Exception</td>\n",
              "      <td>Lorem Ipsum is simply dummy text of the printi...</td>\n",
              "    </tr>\n",
              "    <tr>\n",
              "      <th>2</th>\n",
              "      <td>Invite not found in both TAX and PAS mailbox</td>\n",
              "      <td>Queue-12</td>\n",
              "      <td>Process-9</td>\n",
              "      <td>Business Exception</td>\n",
              "      <td>Lorem Ipsum is simply dummy text of the printi...</td>\n",
              "    </tr>\n",
              "    <tr>\n",
              "      <th>3</th>\n",
              "      <td>InternalFailed to evaluate expression 'Replace...</td>\n",
              "      <td>Queue-14</td>\n",
              "      <td>Process-11</td>\n",
              "      <td>System Exception</td>\n",
              "      <td>Lorem Ipsum is simply dummy text of the printi...</td>\n",
              "    </tr>\n",
              "    <tr>\n",
              "      <th>4</th>\n",
              "      <td>Could not execute code stage because exception...</td>\n",
              "      <td>Queue-16</td>\n",
              "      <td>Process-13</td>\n",
              "      <td>System Exception</td>\n",
              "      <td>Lorem Ipsum is simply dummy text of the printi...</td>\n",
              "    </tr>\n",
              "  </tbody>\n",
              "</table>\n",
              "</div>"
            ],
            "text/plain": [
              "                                   Exception (input)  ...                                           Solution\n",
              "0               Invite not found in both CBS mailbox  ...  Lorem Ipsum is simply dummy text of the printi...\n",
              "1     Interviewer xxxx mail ID not found in invite.   ...  Lorem Ipsum is simply dummy text of the printi...\n",
              "2       Invite not found in both TAX and PAS mailbox  ...  Lorem Ipsum is simply dummy text of the printi...\n",
              "3  InternalFailed to evaluate expression 'Replace...  ...  Lorem Ipsum is simply dummy text of the printi...\n",
              "4  Could not execute code stage because exception...  ...  Lorem Ipsum is simply dummy text of the printi...\n",
              "\n",
              "[5 rows x 5 columns]"
            ]
          },
          "metadata": {
            "tags": []
          },
          "execution_count": 71
        }
      ]
    },
    {
      "cell_type": "markdown",
      "metadata": {
        "id": "uLPAa-N4Oa2H"
      },
      "source": [
        "# Data Cleaning\n",
        "\n",
        "Regex helps in cleaning text based data on the basis of pattern. </br>\n",
        "Using regular rexpressions we have cleaned our data in following ways:\n",
        "1. Conversions of entire text in lower cases\n",
        "2. Removing texts between brackets \n",
        "3. Removing digits and unwanted symbols\n",
        "4. Removing extra white spaces"
      ]
    },
    {
      "cell_type": "code",
      "metadata": {
        "id": "qPBCpnL5Fxfr"
      },
      "source": [
        "#importing regex for data cleaning\n",
        "import re   \n",
        "\n",
        "def cleaning_data(text): #function that cleans the data\n",
        "  text=text.lower()   #converting text to lower case\n",
        "  text=re.sub(\"([\\(\\[]).*?([\\)\\]])\", \"\\g<1>\\g<2>\", text)  #removing text between brackets\n",
        "  text=re.sub(r'[^a-zA-Z ]+', '', text)   #removing all characters except letters\n",
        "  text=re.sub(\"\\s+\",\" \",text)   #removing extra white spaces\n",
        "  return text"
      ],
      "execution_count": null,
      "outputs": []
    },
    {
      "cell_type": "code",
      "metadata": {
        "id": "siV0UgsvN8NR"
      },
      "source": [
        "#passing text to get cleaned\n",
        "text = input[\"Exception (input)\"][0]\n",
        "text = cleaning_data(text)"
      ],
      "execution_count": null,
      "outputs": []
    },
    {
      "cell_type": "code",
      "metadata": {
        "colab": {
          "base_uri": "https://localhost:8080/"
        },
        "id": "Rgyi49w1jTqI",
        "outputId": "d5c3b1fa-3c1f-42a3-b2da-0353c8cc0344"
      },
      "source": [
        "#printing the cleaned text after the removal of unwanted charcters\n",
        "print(text)"
      ],
      "execution_count": null,
      "outputs": [
        {
          "output_type": "stream",
          "text": [
            "invite not found in both cbs mailbox\n"
          ],
          "name": "stdout"
        }
      ]
    },
    {
      "cell_type": "markdown",
      "metadata": {
        "id": "DqkqNrQ-SwcJ"
      },
      "source": [
        "# Keyword Extraction\n",
        "\n",
        "We have implemented YAKE! for extraction of keywords from texts.</br>\n",
        "Reasons to use Yake! over many other keyword extracting techniques are:\n",
        "1. It is light-weight, unsupervised approach\n",
        "2. It has outperformed many of the exisiting state-of-the-art methods\n",
        "3. It is corpus and domain independent"
      ]
    },
    {
      "cell_type": "code",
      "metadata": {
        "colab": {
          "base_uri": "https://localhost:8080/"
        },
        "id": "aeA3gfpeOG8S",
        "outputId": "e80f3d3f-9bf0-4603-cb34-353595393241"
      },
      "source": [
        "#installing and importing yake\n",
        "!pip install yake\n",
        "\n",
        "import yake"
      ],
      "execution_count": null,
      "outputs": [
        {
          "output_type": "stream",
          "text": [
            "Requirement already satisfied: yake in /usr/local/lib/python3.7/dist-packages (0.4.8)\n",
            "Requirement already satisfied: segtok in /usr/local/lib/python3.7/dist-packages (from yake) (1.5.10)\n",
            "Requirement already satisfied: numpy in /usr/local/lib/python3.7/dist-packages (from yake) (1.19.5)\n",
            "Requirement already satisfied: click>=6.0 in /usr/local/lib/python3.7/dist-packages (from yake) (7.1.2)\n",
            "Requirement already satisfied: networkx in /usr/local/lib/python3.7/dist-packages (from yake) (2.5.1)\n",
            "Requirement already satisfied: jellyfish in /usr/local/lib/python3.7/dist-packages (from yake) (0.8.2)\n",
            "Requirement already satisfied: tabulate in /usr/local/lib/python3.7/dist-packages (from yake) (0.8.9)\n",
            "Requirement already satisfied: regex in /usr/local/lib/python3.7/dist-packages (from segtok->yake) (2019.12.20)\n",
            "Requirement already satisfied: decorator<5,>=4.3 in /usr/local/lib/python3.7/dist-packages (from networkx->yake) (4.4.2)\n"
          ],
          "name": "stdout"
        }
      ]
    },
    {
      "cell_type": "code",
      "metadata": {
        "id": "x-YPxWlGeLIv"
      },
      "source": [
        "#providing the parameters\n",
        "language = \"en\"\n",
        "max_ngram_size = 4 # this defines the number of words each keyword can comprise\n",
        "numOfKeywords = 2 # the total number of keywords expected\n",
        "\n",
        "kw_extractor = yake.KeywordExtractor(lan=language, n=max_ngram_size, top=numOfKeywords, features=None)\n",
        "\n",
        "#extracting the keywords\n",
        "keywords = kw_extractor.extract_keywords(text)\n",
        "\n",
        "#list of keywords\n",
        "#we append the keywords in a list called sentences\n",
        "sentences=[]\n",
        "sentences.append(text)\n",
        "for kw in keywords:\n",
        "  sentences.append(kw[0])"
      ],
      "execution_count": null,
      "outputs": []
    },
    {
      "cell_type": "markdown",
      "metadata": {
        "id": "9JDKblF4e16J"
      },
      "source": [
        "# Classifying Keywords"
      ]
    },
    {
      "cell_type": "markdown",
      "metadata": {
        "id": "TLdZDoTx6Ru2"
      },
      "source": [
        "The classification of keywords has been done using the sent2vec library. It has an inbuilt bert model which helps in finding the most closer exception to the given keywords in vector space."
      ]
    },
    {
      "cell_type": "code",
      "metadata": {
        "id": "Hg2CRYPs4Mb8"
      },
      "source": [
        "#list of system exceptions\n",
        "Sys_Exception=[]\n",
        "for i in range(11):\n",
        "  Sys_Exception.append(tag['Keywords for System Exception'][i])"
      ],
      "execution_count": null,
      "outputs": []
    },
    {
      "cell_type": "code",
      "metadata": {
        "id": "EmZbNmrO4fwn"
      },
      "source": [
        "#list of business exceptions\n",
        "Bus_Exception=[]\n",
        "for i in range(8):\n",
        "  Bus_Exception.append(tag['Keywords for Business Exception'][i])"
      ],
      "execution_count": null,
      "outputs": []
    },
    {
      "cell_type": "code",
      "metadata": {
        "colab": {
          "base_uri": "https://localhost:8080/"
        },
        "id": "jbhj42l1eWL4",
        "outputId": "56d3a790-ced1-4d22-c3b0-c95505a52df0"
      },
      "source": [
        "#installing sent2vec\n",
        "!pip install sent2vec"
      ],
      "execution_count": null,
      "outputs": [
        {
          "output_type": "stream",
          "text": [
            "Requirement already satisfied: sent2vec in /usr/local/lib/python3.7/dist-packages (0.2.0)\n",
            "Requirement already satisfied: gensim in /usr/local/lib/python3.7/dist-packages (from sent2vec) (3.6.0)\n",
            "Requirement already satisfied: torch in /usr/local/lib/python3.7/dist-packages (from sent2vec) (1.8.1+cu101)\n",
            "Requirement already satisfied: transformers in /usr/local/lib/python3.7/dist-packages (from sent2vec) (4.5.1)\n",
            "Requirement already satisfied: numpy in /usr/local/lib/python3.7/dist-packages (from sent2vec) (1.19.5)\n",
            "Requirement already satisfied: spacy in /usr/local/lib/python3.7/dist-packages (from sent2vec) (2.2.4)\n",
            "Requirement already satisfied: smart-open>=1.2.1 in /usr/local/lib/python3.7/dist-packages (from gensim->sent2vec) (5.0.0)\n",
            "Requirement already satisfied: scipy>=0.18.1 in /usr/local/lib/python3.7/dist-packages (from gensim->sent2vec) (1.4.1)\n",
            "Requirement already satisfied: six>=1.5.0 in /usr/local/lib/python3.7/dist-packages (from gensim->sent2vec) (1.15.0)\n",
            "Requirement already satisfied: typing-extensions in /usr/local/lib/python3.7/dist-packages (from torch->sent2vec) (3.7.4.3)\n",
            "Requirement already satisfied: regex!=2019.12.17 in /usr/local/lib/python3.7/dist-packages (from transformers->sent2vec) (2019.12.20)\n",
            "Requirement already satisfied: tqdm>=4.27 in /usr/local/lib/python3.7/dist-packages (from transformers->sent2vec) (4.41.1)\n",
            "Requirement already satisfied: importlib-metadata; python_version < \"3.8\" in /usr/local/lib/python3.7/dist-packages (from transformers->sent2vec) (3.10.1)\n",
            "Requirement already satisfied: packaging in /usr/local/lib/python3.7/dist-packages (from transformers->sent2vec) (20.9)\n",
            "Requirement already satisfied: requests in /usr/local/lib/python3.7/dist-packages (from transformers->sent2vec) (2.23.0)\n",
            "Requirement already satisfied: sacremoses in /usr/local/lib/python3.7/dist-packages (from transformers->sent2vec) (0.0.45)\n",
            "Requirement already satisfied: tokenizers<0.11,>=0.10.1 in /usr/local/lib/python3.7/dist-packages (from transformers->sent2vec) (0.10.2)\n",
            "Requirement already satisfied: filelock in /usr/local/lib/python3.7/dist-packages (from transformers->sent2vec) (3.0.12)\n",
            "Requirement already satisfied: catalogue<1.1.0,>=0.0.7 in /usr/local/lib/python3.7/dist-packages (from spacy->sent2vec) (1.0.0)\n",
            "Requirement already satisfied: wasabi<1.1.0,>=0.4.0 in /usr/local/lib/python3.7/dist-packages (from spacy->sent2vec) (0.8.2)\n",
            "Requirement already satisfied: preshed<3.1.0,>=3.0.2 in /usr/local/lib/python3.7/dist-packages (from spacy->sent2vec) (3.0.5)\n",
            "Requirement already satisfied: blis<0.5.0,>=0.4.0 in /usr/local/lib/python3.7/dist-packages (from spacy->sent2vec) (0.4.1)\n",
            "Requirement already satisfied: srsly<1.1.0,>=1.0.2 in /usr/local/lib/python3.7/dist-packages (from spacy->sent2vec) (1.0.5)\n",
            "Requirement already satisfied: setuptools in /usr/local/lib/python3.7/dist-packages (from spacy->sent2vec) (56.0.0)\n",
            "Requirement already satisfied: plac<1.2.0,>=0.9.6 in /usr/local/lib/python3.7/dist-packages (from spacy->sent2vec) (1.1.3)\n",
            "Requirement already satisfied: cymem<2.1.0,>=2.0.2 in /usr/local/lib/python3.7/dist-packages (from spacy->sent2vec) (2.0.5)\n",
            "Requirement already satisfied: murmurhash<1.1.0,>=0.28.0 in /usr/local/lib/python3.7/dist-packages (from spacy->sent2vec) (1.0.5)\n",
            "Requirement already satisfied: thinc==7.4.0 in /usr/local/lib/python3.7/dist-packages (from spacy->sent2vec) (7.4.0)\n",
            "Requirement already satisfied: zipp>=0.5 in /usr/local/lib/python3.7/dist-packages (from importlib-metadata; python_version < \"3.8\"->transformers->sent2vec) (3.4.1)\n",
            "Requirement already satisfied: pyparsing>=2.0.2 in /usr/local/lib/python3.7/dist-packages (from packaging->transformers->sent2vec) (2.4.7)\n",
            "Requirement already satisfied: urllib3!=1.25.0,!=1.25.1,<1.26,>=1.21.1 in /usr/local/lib/python3.7/dist-packages (from requests->transformers->sent2vec) (1.24.3)\n",
            "Requirement already satisfied: idna<3,>=2.5 in /usr/local/lib/python3.7/dist-packages (from requests->transformers->sent2vec) (2.10)\n",
            "Requirement already satisfied: certifi>=2017.4.17 in /usr/local/lib/python3.7/dist-packages (from requests->transformers->sent2vec) (2020.12.5)\n",
            "Requirement already satisfied: chardet<4,>=3.0.2 in /usr/local/lib/python3.7/dist-packages (from requests->transformers->sent2vec) (3.0.4)\n",
            "Requirement already satisfied: click in /usr/local/lib/python3.7/dist-packages (from sacremoses->transformers->sent2vec) (7.1.2)\n",
            "Requirement already satisfied: joblib in /usr/local/lib/python3.7/dist-packages (from sacremoses->transformers->sent2vec) (1.0.1)\n"
          ],
          "name": "stdout"
        }
      ]
    },
    {
      "cell_type": "code",
      "metadata": {
        "id": "72XcssW4e0Qe"
      },
      "source": [
        "#importing spatial and vectorizer\n",
        "from scipy import spatial\n",
        "from sent2vec.vectorizer import Vectorizer"
      ],
      "execution_count": null,
      "outputs": []
    },
    {
      "cell_type": "code",
      "metadata": {
        "id": "t_yw8KFFf8rO"
      },
      "source": [
        "#converting the keywords into vectors\n",
        "vectorizer1 = Vectorizer()\n",
        "vectorizer1.bert(sentences)\n",
        "vectors_bert1 = vectorizer1.vectors"
      ],
      "execution_count": null,
      "outputs": []
    },
    {
      "cell_type": "code",
      "metadata": {
        "id": "m-8USA5f5aXP"
      },
      "source": [
        "#converting the system exception into vectors\n",
        "vectorizer2 = Vectorizer()\n",
        "vectorizer2.bert(Sys_Exception)\n",
        "vectors_bert2 = vectorizer2.vectors"
      ],
      "execution_count": null,
      "outputs": []
    },
    {
      "cell_type": "code",
      "metadata": {
        "id": "7TOOtEDx7yq2"
      },
      "source": [
        "#converting the business exception into vectors\n",
        "vectorizer3 = Vectorizer()\n",
        "vectorizer3.bert(Bus_Exception)\n",
        "vectors_bert3 = vectorizer3.vectors"
      ],
      "execution_count": null,
      "outputs": []
    },
    {
      "cell_type": "code",
      "metadata": {
        "colab": {
          "base_uri": "https://localhost:8080/"
        },
        "id": "LyyIYa-BgeKf",
        "outputId": "c693a7b2-c48d-42e0-9313-e11b2ecce947"
      },
      "source": [
        "#minimum distance from text is printed\n",
        "min1 = 100\n",
        "min2 = 100\n",
        "for k in range(3):\n",
        "  for i in range(11):\n",
        "    min1 = min(min1, spatial.distance.cosine(vectors_bert1[k], vectors_bert2[i]))\n",
        "  for i in range(8):\n",
        "    min2 = min(min2, spatial.distance.cosine(vectors_bert1[k], vectors_bert3[i]))\n",
        "if (min1<min2):\n",
        "  print(\"System Exception\")\n",
        "else:\n",
        "  print(\"Business Exception\")"
      ],
      "execution_count": null,
      "outputs": [
        {
          "output_type": "stream",
          "text": [
            "Business Exception\n"
          ],
          "name": "stdout"
        }
      ]
    },
    {
      "cell_type": "markdown",
      "metadata": {
        "id": "tW_2YLfklera"
      },
      "source": [
        "# Extracting similar issues"
      ]
    },
    {
      "cell_type": "markdown",
      "metadata": {
        "id": "7lHLgKL_nLN9"
      },
      "source": [
        "Implementation of BM25 for similar top-n text retrieval.\n",
        "Here we have extracted top three similar issues."
      ]
    },
    {
      "cell_type": "code",
      "metadata": {
        "id": "k2hSyG2Os-JD",
        "colab": {
          "base_uri": "https://localhost:8080/"
        },
        "outputId": "88c033cc-cbf6-460e-b8a7-21d1cf127645"
      },
      "source": [
        "#installing BM25\n",
        "!pip install rank_bm25"
      ],
      "execution_count": null,
      "outputs": [
        {
          "output_type": "stream",
          "text": [
            "Requirement already satisfied: rank_bm25 in /usr/local/lib/python3.7/dist-packages (0.2.1)\n",
            "Requirement already satisfied: numpy in /usr/local/lib/python3.7/dist-packages (from rank_bm25) (1.19.5)\n"
          ],
          "name": "stdout"
        }
      ]
    },
    {
      "cell_type": "code",
      "metadata": {
        "id": "Fpbw61q8ld9z"
      },
      "source": [
        "#importing BM250kapi module\n",
        "from rank_bm25 import BM25Okapi\n",
        "\n",
        "#tokenizing the corpus from where to retrieve similar issues\n",
        "corpus = input[\"Exception (input)\"]\n",
        "\n",
        "tokenized_corpus = [doc.split(\" \") for doc in corpus]\n",
        "\n",
        "bm25 = BM25Okapi(tokenized_corpus)"
      ],
      "execution_count": null,
      "outputs": []
    },
    {
      "cell_type": "code",
      "metadata": {
        "id": "O7hFw1OilmxV"
      },
      "source": [
        "#using the first keyword as query\n",
        "query = sentences[0]\n",
        "tokenized_query = query.split(\" \")"
      ],
      "execution_count": null,
      "outputs": []
    },
    {
      "cell_type": "code",
      "metadata": {
        "id": "KpEyR1Milqgx"
      },
      "source": [
        "#receiving top-3 similar issues from the text\n",
        "arr=bm25.get_top_n(tokenized_query, corpus, n=3)"
      ],
      "execution_count": null,
      "outputs": []
    },
    {
      "cell_type": "code",
      "metadata": {
        "id": "9OoabHhFjmOp"
      },
      "source": [
        "#creating a list which contains the index of the similar issues in the dataset\n",
        "lst=[]\n",
        "for i in range(3):\n",
        "  lst.append(input.index[input['Exception (input)'] == arr[i]].tolist())"
      ],
      "execution_count": null,
      "outputs": []
    },
    {
      "cell_type": "code",
      "metadata": {
        "colab": {
          "base_uri": "https://localhost:8080/"
        },
        "id": "H1K1dzJUvT83",
        "outputId": "499eedc7-d233-4582-dbb0-df76ca32b374"
      },
      "source": [
        "lst"
      ],
      "execution_count": null,
      "outputs": [
        {
          "output_type": "execute_result",
          "data": {
            "text/plain": [
              "[[0], [2], [9]]"
            ]
          },
          "metadata": {
            "tags": []
          },
          "execution_count": 90
        }
      ]
    },
    {
      "cell_type": "markdown",
      "metadata": {
        "id": "WW7ap9VDVO9-"
      },
      "source": [
        "# Finding Solution"
      ]
    },
    {
      "cell_type": "markdown",
      "metadata": {
        "id": "9SlYZow-IHOJ"
      },
      "source": [
        "We try returning only the relevant solutions. If the arised issue is similar to the issues with similar solutions we return a single solution else a combination of multiple solution. We have used the BERT model for the implemenation of it."
      ]
    },
    {
      "cell_type": "code",
      "metadata": {
        "id": "No38lSCyVV8w"
      },
      "source": [
        "#importing required libraries\n",
        "import numpy as np\n",
        "import pandas as pd\n",
        "import matplotlib.pyplot as plt"
      ],
      "execution_count": null,
      "outputs": []
    },
    {
      "cell_type": "code",
      "metadata": {
        "colab": {
          "base_uri": "https://localhost:8080/"
        },
        "id": "hpE33dSRVZGo",
        "outputId": "f71f9581-aefa-4d18-f553-fad13a863757"
      },
      "source": [
        "#importing transformers\n",
        "!pip install transformers"
      ],
      "execution_count": null,
      "outputs": [
        {
          "output_type": "stream",
          "text": [
            "Requirement already satisfied: transformers in /usr/local/lib/python3.7/dist-packages (4.5.1)\n",
            "Requirement already satisfied: numpy>=1.17 in /usr/local/lib/python3.7/dist-packages (from transformers) (1.19.5)\n",
            "Requirement already satisfied: sacremoses in /usr/local/lib/python3.7/dist-packages (from transformers) (0.0.45)\n",
            "Requirement already satisfied: tqdm>=4.27 in /usr/local/lib/python3.7/dist-packages (from transformers) (4.41.1)\n",
            "Requirement already satisfied: packaging in /usr/local/lib/python3.7/dist-packages (from transformers) (20.9)\n",
            "Requirement already satisfied: regex!=2019.12.17 in /usr/local/lib/python3.7/dist-packages (from transformers) (2019.12.20)\n",
            "Requirement already satisfied: filelock in /usr/local/lib/python3.7/dist-packages (from transformers) (3.0.12)\n",
            "Requirement already satisfied: requests in /usr/local/lib/python3.7/dist-packages (from transformers) (2.23.0)\n",
            "Requirement already satisfied: importlib-metadata; python_version < \"3.8\" in /usr/local/lib/python3.7/dist-packages (from transformers) (3.10.1)\n",
            "Requirement already satisfied: tokenizers<0.11,>=0.10.1 in /usr/local/lib/python3.7/dist-packages (from transformers) (0.10.2)\n",
            "Requirement already satisfied: six in /usr/local/lib/python3.7/dist-packages (from sacremoses->transformers) (1.15.0)\n",
            "Requirement already satisfied: joblib in /usr/local/lib/python3.7/dist-packages (from sacremoses->transformers) (1.0.1)\n",
            "Requirement already satisfied: click in /usr/local/lib/python3.7/dist-packages (from sacremoses->transformers) (7.1.2)\n",
            "Requirement already satisfied: pyparsing>=2.0.2 in /usr/local/lib/python3.7/dist-packages (from packaging->transformers) (2.4.7)\n",
            "Requirement already satisfied: idna<3,>=2.5 in /usr/local/lib/python3.7/dist-packages (from requests->transformers) (2.10)\n",
            "Requirement already satisfied: urllib3!=1.25.0,!=1.25.1,<1.26,>=1.21.1 in /usr/local/lib/python3.7/dist-packages (from requests->transformers) (1.24.3)\n",
            "Requirement already satisfied: chardet<4,>=3.0.2 in /usr/local/lib/python3.7/dist-packages (from requests->transformers) (3.0.4)\n",
            "Requirement already satisfied: certifi>=2017.4.17 in /usr/local/lib/python3.7/dist-packages (from requests->transformers) (2020.12.5)\n",
            "Requirement already satisfied: typing-extensions>=3.6.4; python_version < \"3.8\" in /usr/local/lib/python3.7/dist-packages (from importlib-metadata; python_version < \"3.8\"->transformers) (3.7.4.3)\n",
            "Requirement already satisfied: zipp>=0.5 in /usr/local/lib/python3.7/dist-packages (from importlib-metadata; python_version < \"3.8\"->transformers) (3.4.1)\n"
          ],
          "name": "stdout"
        }
      ]
    },
    {
      "cell_type": "code",
      "metadata": {
        "id": "5Oe68aFdVHks"
      },
      "source": [
        "#importing torch\n",
        "import torch\n",
        "import torch.nn.functional as f \n",
        "#importing BertModel and BertTokenizer\n",
        "from transformers import BertModel, BertTokenizer"
      ],
      "execution_count": null,
      "outputs": []
    },
    {
      "cell_type": "code",
      "metadata": {
        "id": "cwOY4IYpVoRE"
      },
      "source": [
        "#setting up device for model\n",
        "device = torch.device(\"cuda\" if torch.cuda.is_available() else \"cpu\")"
      ],
      "execution_count": null,
      "outputs": []
    },
    {
      "cell_type": "code",
      "metadata": {
        "id": "yZ3iPOYaVtoO"
      },
      "source": [
        "#using the bert-base-uncased model\n",
        "bert_version = 'bert-base-uncased'\n",
        "tokenizer = BertTokenizer.from_pretrained(bert_version)\n",
        "model = BertModel.from_pretrained(bert_version)"
      ],
      "execution_count": null,
      "outputs": []
    },
    {
      "cell_type": "code",
      "metadata": {
        "id": "D3kL1ld6V5A3"
      },
      "source": [
        "#we are directly using the pre-trained bert model\n",
        "model = model.eval()"
      ],
      "execution_count": null,
      "outputs": []
    },
    {
      "cell_type": "code",
      "metadata": {
        "id": "SsajxS-7V9EB"
      },
      "source": [
        "model = model.to(device)"
      ],
      "execution_count": null,
      "outputs": []
    },
    {
      "cell_type": "code",
      "metadata": {
        "id": "uhoavjqwWBjO"
      },
      "source": [
        "#the texts whose cosine similarity has to be measured\n",
        "texts  = [\n",
        "    train[\"Solution\"][lst[0][0]],\n",
        "    train[\"Solution\"][lst[1][0]],\n",
        "    train[\"Solution\"][lst[2][0]]\n",
        "]"
      ],
      "execution_count": null,
      "outputs": []
    },
    {
      "cell_type": "code",
      "metadata": {
        "id": "IOSiS6w3WFui"
      },
      "source": [
        "encodings = tokenizer(\n",
        "    texts, # the texts to be tokenized\n",
        "    padding=True, # pad the texts to the maximum length\n",
        "    return_tensors='pt' # return the tensors \n",
        ")"
      ],
      "execution_count": null,
      "outputs": []
    },
    {
      "cell_type": "code",
      "metadata": {
        "id": "d6li-ntHWIpr"
      },
      "source": [
        "#the encodings are set to the device\n",
        "encodings = encodings.to(device)"
      ],
      "execution_count": null,
      "outputs": []
    },
    {
      "cell_type": "code",
      "metadata": {
        "colab": {
          "base_uri": "https://localhost:8080/"
        },
        "id": "I2HV3s0yWNm0",
        "outputId": "ca028314-ad68-4813-8b48-fd0c8cb9e9a5"
      },
      "source": [
        "encodings.keys()"
      ],
      "execution_count": null,
      "outputs": [
        {
          "output_type": "execute_result",
          "data": {
            "text/plain": [
              "dict_keys(['input_ids', 'token_type_ids', 'attention_mask'])"
            ]
          },
          "metadata": {
            "tags": []
          },
          "execution_count": 101
        }
      ]
    },
    {
      "cell_type": "code",
      "metadata": {
        "id": "jHdNa-KQWgcC"
      },
      "source": [
        "#claculating and getting all the sentence embeddings\n",
        "with torch.no_grad():\n",
        "    embeds = model(**encodings)\n",
        "embeds = embeds[0]\n",
        "CLSs = embeds[:, 0, :]"
      ],
      "execution_count": null,
      "outputs": []
    },
    {
      "cell_type": "code",
      "metadata": {
        "id": "Hva_nokmWw-7"
      },
      "source": [
        "# normalizing token embeddings\n",
        "normalized = f.normalize(CLSs, p=2, dim=1)\n",
        "# calculate the cosine similarity\n",
        "cls_dist = normalized.matmul(normalized.T)\n",
        "cls_dist = cls_dist.new_ones(cls_dist.shape) - cls_dist\n",
        "cls_dist = cls_dist.numpy()"
      ],
      "execution_count": null,
      "outputs": []
    },
    {
      "cell_type": "code",
      "metadata": {
        "id": "qpCpIfLgwfso"
      },
      "source": [
        "#calculating differences of embeddings\n",
        "diff1=abs(round(cls_dist[0][0]-cls_dist[0][1],2))\n",
        "diff2=abs(round(cls_dist[0][1]-cls_dist[0][2],2))\n",
        "diff3=abs(round(cls_dist[0][0]-cls_dist[0][2],2))"
      ],
      "execution_count": null,
      "outputs": []
    },
    {
      "cell_type": "code",
      "metadata": {
        "colab": {
          "base_uri": "https://localhost:8080/"
        },
        "id": "MxJmCnQnxXVK",
        "outputId": "275720ea-61e6-48df-d764-197f9faca093"
      },
      "source": [
        "#returing suitable answer based on comparisons\n",
        "if (diff1==diff2):\n",
        "  if (diff2==diff3):\n",
        "    print(texts[0])\n",
        "  else:\n",
        "    print(texts[0],texts[2])\n",
        "else:\n",
        "  if (diff3==diff1):\n",
        "    print(texts[0],texts[1])\n",
        "  else:\n",
        "    print(texts[0],texts[1],texts[2])"
      ],
      "execution_count": null,
      "outputs": [
        {
          "output_type": "stream",
          "text": [
            "Lorem Ipsum is simply dummy text of the printing and typesetting industry. Lorem Ipsum has been the industry's standard dummy text ever since the 1500s, when an unknown printer took a galley of type and scrambled it to make a type specimen book. It has survived not only five centuries, but also the leap into electronic typesetting, remaining essentially unchanged. It was popularised in the 1960s with the release of Letraset sheets containing Lorem Ipsum passages, and more recently with desktop publishing software like Aldus PageMaker including versions of Lorem Ipsum.\n"
          ],
          "name": "stdout"
        }
      ]
    }
  ]
}